{
 "cells": [
  {
   "cell_type": "code",
   "execution_count": 1,
   "metadata": {},
   "outputs": [
    {
     "name": "stdout",
     "output_type": "stream",
     "text": [
      "2.0.0-beta1\n",
      "0.6.0.dev\n"
     ]
    }
   ],
   "source": [
    "from IPython.display import Image\n",
    "import numpy as np\n",
    "import pandas as pd\n",
    "import matplotlib.pyplot as plt\n",
    "import json, os, shutil, itertools, fnmatch, re\n",
    "from scipy.interpolate import griddata, make_interp_spline, BSpline\n",
    "import scipy.misc\n",
    "import tensorflow as tf\n",
    "import cirq\n",
    "import seaborn as sns\n",
    "import sys\n",
    "import pickle as pkl\n",
    "from PIL import Image, ImageDraw, ImageFont\n",
    "from collections import defaultdict\n",
    "from tensorboard.backend.event_processing.event_accumulator import EventAccumulator\n",
    "code_path = \"C:\\\\Users\\\\Andrew Patterson\\\\Google Drive\\\\PhD\\\\First Year\\\\Untitled Folder\\\\cirq_state_discrimination\"\n",
    "sys.path.append(code_path)\n",
    "print(tf.__version__)\n",
    "print(cirq.__version__)"
   ]
  },
  {
   "cell_type": "code",
   "execution_count": 2,
   "metadata": {},
   "outputs": [],
   "source": [
    "def create_args(path: str) -> str:\n",
    "    args = \"\"\n",
    "    with open(os.path.join(path, 'saved_params.json')) as f:\n",
    "        params = json.load(f)\n",
    "\n",
    "    if params['mu_a'] == 0.5:\n",
    "        args = args + ' --file_loc=sigma005_mu05_bconst.json'\n",
    "    elif params['mu_a'] == 0.25:\n",
    "        args = args + ' --file_loc=sigma005_mu025_bconst.json'\n",
    "    else:\n",
    "        args = args + ' --max_epoch=25'\n",
    "        data_args = ['prop_a', 'b_const', 'a_const', 'mu_a', 'mu_b', 'sigma_a', 'sigma_b']\n",
    "        for a in data_args:\n",
    "            args = args + ' --{}={}'.format(a, str(params[a]))\n",
    "            \n",
    "    dicts = (params['gate_dict'], params['gate_dict_0'], params['gate_dict_1'])\n",
    "    dict_path = os.path.join(path, 'temp_dicts.pkl')\n",
    "    with open(dict_path, 'wb') as f:\n",
    "        pkl.dump(dicts, f, pkl.HIGHEST_PROTOCOL)\n",
    "    \n",
    "    args = args + \" --dicts=\\\"{}\\\"\".format(dict_path)\n",
    "\n",
    "    other_args = ['cost_error', 'cost_incon', 'no_qubits', 'noise_on', \n",
    "                  'noise_prob', 'learning_rate', 'beta1', 'beta2']\n",
    "    for a in other_args:\n",
    "        args = args + ' --{}={}'.format(a, str(params[a]))\n",
    "    return args\n",
    "            \n",
    "def generate_output_file(directory: str, use_tf: bool = False, mu_05: bool = True, old_dicts: bool = False) -> None:\n",
    "    folder_list = [f for f in os.listdir(directory) if os.path.isdir(os.path.join(directory, f))]\n",
    "#     folder_list = [f for f in os.listdir(directory) if f == '2019_07_30_13_40_05']\n",
    "    for restore_path in folder_list:\n",
    "        full_path = os.path.join(directory, restore_path)\n",
    "        args = \" --create_outputs\" + \" --restore_loc=\\\"{}\\\"\".format(full_path)\n",
    "        if use_tf:\n",
    "            args = args + \" --use_tf\"\n",
    "        args = args + create_args(full_path)\n",
    "        \n",
    "        run_file = os.path.join(code_path, 'run_training.py')\n",
    "        os.system(\"python \\\"\" + run_file +\"\\\"\" + args)\n",
    "        \n",
    "# generate_output_file(r\"C:\\Users\\Andrew Patterson\\Documents\\PhD\\cirq_state_discrimination\\checkpoints\\myriad_data\\tf_noise_array_g\", use_tf=True)"
   ]
  },
  {
   "cell_type": "code",
   "execution_count": 12,
   "metadata": {},
   "outputs": [],
   "source": [
    "def label_plot(directory: str) -> None:\n",
    "    folder_list = [f for f in os.listdir(directory) if os.path.isdir(os.path.join(directory, f))]\n",
    "    for path in folder_list:\n",
    "        plot_path = os.path.join(directory, path, 'outputs')\n",
    "        with open(os.path.join(directory, path, 'saved_params.json')) as f:\n",
    "            param_dict = json.load(f)\n",
    "        \n",
    "        param_list = ['cost_error', 'cost_incon', 'noise_on', 'noise_prob', 'mu_a', 'sigma_a', 'job_name']\n",
    "        if not param_dict['b_const']:\n",
    "            param_list.extend(['mu_b', 'sigma_b'])\n",
    "        \n",
    "        msg = \"\"\n",
    "        for i, param in enumerate(param_list):\n",
    "            msg = msg + '{}: {} '.format(param, param_dict[param])\n",
    "            if i % 3 == 0:\n",
    "                msg = msg + \"\\n\"\n",
    "            \n",
    "        font_path = os.path.join(\"C:\\\\Users\\\\Andrew Patterson\\\\Documents\\\\PhD\\\\fonts\\\\fonts\\\\ofl\\\\sourcecodepro\", 'SourceCodePro-Light.ttf')\n",
    "        font = ImageFont.truetype(font_path, size=10)\n",
    "        plot = Image.open(os.path.join(plot_path, 'bar_graph.png'))\n",
    "        \n",
    "        width, height = plot.size\n",
    "        cropped = plot.crop((100, 35, 570, 435))\n",
    "        draw = ImageDraw.Draw(cropped)\n",
    "        (x,y) = (5,5)\n",
    "        colour = 'rgb(0, 0, 0)'\n",
    "        draw.text((x,y), msg, fill=colour, font=font)\n",
    "        save_path = os.path.join(plot_path, 'plot_labeled.png')\n",
    "        cropped.save(save_path)\n",
    "        os.system(\"convert \\\"{}\\\" -fuzz 2% -transparent white \\\"{}\\\"\".format(save_path, save_path))\n",
    "        \n",
    "# label_plot(r\"C:\\Users\\Andrew Patterson\\Documents\\PhD\\cirq_state_discrimination\\checkpoints\\myriad_data\\tf_noise_off_g\")"
   ]
  },
  {
   "cell_type": "code",
   "execution_count": 11,
   "metadata": {},
   "outputs": [
    {
     "data": {
      "image/png": "[encoded data removed]",
      "text/plain": [
       "<Figure size 432x288 with 1 Axes>"
      ]
     },
     "metadata": {
      "needs_background": "light"
     },
     "output_type": "display_data"
    },
    {
     "data": {
      "text/plain": [
       "<Figure size 432x288 with 0 Axes>"
      ]
     },
     "metadata": {},
     "output_type": "display_data"
    }
   ],
   "source": [
    "def nwise(iterable, n):\n",
    "    ts = itertools.tee(iterable, n)\n",
    "    for c, t in enumerate(ts):\n",
    "        next(itertools.islice(t, c, c), None)\n",
    "    return zip(*ts)\n",
    "\n",
    "def moving_average(iterable, n):\n",
    "    yield from (sum(x)/n for x in nwise(iterable, n))\n",
    "    \n",
    "def plot_loss_fn(folder, n=6, no_noise=None, cutoff=7500):\n",
    "    \"\"\"\n",
    "    Input: Takes a list of folders where models are strored and returns a graph of convergences plotted together \n",
    "    \"\"\"\n",
    "    fig = plt.figure()\n",
    "    ax = fig.add_subplot(1, 1, 1)\n",
    "    ax.set_xlabel('Step')\n",
    "    ax.set_ylabel('Loss')\n",
    "    ax.set_title('Training loss, Moving average = {}'.format(n))\n",
    "    files = [f for f in os.listdir(folder) if os.path.isfile(os.path.join(folder, f))]\n",
    "    event_file = fnmatch.filter(files, 'events*')\n",
    "    steps = []\n",
    "    loss = []\n",
    "    for e in tf.compat.v1.train.summary_iterator(os.path.join(folder, event_file[0])):\n",
    "        for v in e.summary.value:\n",
    "            if v.tag == 'Training loss':\n",
    "                if e.step <= cutoff:\n",
    "                    steps.append(e.step)\n",
    "                    val = np.frombuffer(v.tensor.tensor_content, dtype=np.float32)[0]\n",
    "                    loss.append(val)\n",
    "\n",
    "    param_file = os.path.join(folder, 'saved_params.json')\n",
    "    with open(param_file, 'r') as f:\n",
    "        params = json.load(f)\n",
    "    if params['noise_on'] == \"False\":\n",
    "        noise_level = 0\n",
    "    else:\n",
    "        noise_level = params['noise_prob']\n",
    "    tot_cost = float(params['cost_error']) + float(params['cost_incon'])\n",
    "    loss = np.array(loss)\n",
    "    loss = loss / tot_cost\n",
    "    np.save((step, loss), os.path.join(folder, 'outputs', 'loss_fn.npy'))\n",
    "    loss_ma = moving_average(loss, n)\n",
    "    step_ma = moving_average(steps, n)\n",
    "    ax.plot(list(step_ma), list(loss_ma), label=noise_level)\n",
    "    ax.legend()\n",
    "    plt.savefig(os.path.join(folder, 'outputs', 'loss_fn.png'))\n",
    "    plt.show()\n",
    "\n",
    "def save_loss_fns(directory: str):\n",
    "    folder_list = [f for f in os.listdir(directory) if os.path.isdir(os.path.join(directory, f))]\n",
    "    for path in folder_list:\n",
    "        plot_loss_fn(os.path.join(directory, path))\n",
    "save_loss_fns(r\"C:\\Users\\Andrew Patterson\\Documents\\PhD\\cirq_state_discrimination\\checkpoints\\myriad_data\\tf_noise_off_g\")"
   ]
  },
  {
   "cell_type": "code",
   "execution_count": 21,
   "metadata": {},
   "outputs": [],
   "source": [
    "def create_data_frame(directory: str):\n",
    "    df = pd.DataFrame()\n",
    "    folder_list = [f for f in os.listdir(directory) if os.path.isdir(os.path.join(directory, f))]\n",
    "    for f in folder_list:\n",
    "        path = os.path.join(directory, f)\n",
    "        probs_path = os.path.join(path, 'outputs', 'probs.npy')\n",
    "        if os.path.isfile(probs_path):\n",
    "            with open(os.path.join(path, 'saved_params.json')) as js:\n",
    "                params = json.load(js)\n",
    "            probs = np.load(probs_path)\n",
    "\n",
    "            p_error = np.average([probs[0][1], probs[1][0]])\n",
    "            p_inc = np.average([probs[0][2], probs[1][2]])\n",
    "            p_suc = np.average([probs[0][0], probs[1][1]])\n",
    "\n",
    "            loss = p_error + p_inc\n",
    "\n",
    "            df = df.append({'P_err': p_error, 'P_inc': p_inc, 'P_suc': p_suc, 'cost_err': params['cost_error'],\n",
    "                            'cost_inc': params['cost_incon'], 'noise_on': params['noise_on'],\n",
    "                            'noise_prob': params['noise_prob'], 'learning_rate': params['learning_rate'],\n",
    "                            'loss': loss, 'folder': str(f)},\n",
    "                           ignore_index=True)\n",
    "\n",
    "\n",
    "    numeric = ['cost_err', 'cost_inc', 'noise_prob', 'learning_rate']\n",
    "    df[numeric] = df[numeric].apply(pd.to_numeric, errors='coerce', axis=1)\n",
    "    if not os.path.exists(os.path.join(directory, 'output')):\n",
    "        os.mkdir(os.path.join(directory, 'output'))\n",
    "    df.to_pickle('dataframe.pkl')\n",
    "    return df"
   ]
  },
  {
   "cell_type": "code",
   "execution_count": 27,
   "metadata": {},
   "outputs": [
    {
     "data": {
      "text/plain": [
       "<matplotlib.axes._subplots.AxesSubplot at 0x1cb5bc31748>"
      ]
     },
     "execution_count": 27,
     "metadata": {},
     "output_type": "execute_result"
    },
    {
     "data": {
      "image/png": "[encoded data removed]",
      "text/plain": [
       "<Figure size 504x504 with 1 Axes>"
      ]
     },
     "metadata": {
      "needs_background": "light"
     },
     "output_type": "display_data"
    }
   ],
   "source": [
    "df = create_data_frame(r\"C:\\Users\\Andrew Patterson\\Documents\\PhD\\cirq_state_discrimination\\checkpoints\\myriad_data\\tf_noise_array_g\")\n",
    "f, ax = plt.subplots(figsize=(7,7))\n",
    "ax.set(xscale='log', title='Loss with log noise probability')\n",
    "sns.scatterplot(df['noise_prob'], df['loss'], ax=ax)"
   ]
  },
  {
   "cell_type": "code",
   "execution_count": null,
   "metadata": {},
   "outputs": [],
   "source": [
    "def pre_trained_new_noise_level(restore_directory: str, use_tf: bool, noise_levels: list):\n",
    "    noise_levels_path = os.path.join(restore_directory, 'outputs_with_noise_levels')\n",
    "    if not os.path.exists(noise_levels_path):\n",
    "        os.mkdir(noise_levels_path)\n",
    "        \n",
    "    for noise in noise_levels:\n",
    "        args = \" --create_outputs\" + \" --restore_loc=\\\"{}\\\"\".format(restore_directory)    \n",
    "        if use_tf:\n",
    "            args = args + \" --use_tf\"\n",
    "        args = args + create_args(restore_directory)\n",
    "        re.sub('(--noise_prob=\\d*.\\d*)', \"--noise_prob={}\".format(noise), args)\n",
    "        \n",
    "        noise_dir = os.path.join(noise_levels_path, re.sub('\\.', '_', str(noise)))\n",
    "        args = args + ' --output_loc=\\\"{}\\\"'.format(noise_dir)\n",
    "        run_file = os.path.join(code_path, 'run_training.py')\n",
    "        os.system(\"python \\\"\" + run_file +\"\\\"\" + args)\n",
    "        \n",
    "def pre_trained_multiple(directory: str, use_tf: bool, noise_levels: list):\n",
    "    folder_list = [f for f in os.listdir(directory) if os.path.isdir(os.path.join(directory, f))]\n",
    "    for path in folder_list:\n",
    "        pre_trained_new_noise_level(os.path.join(directory, path), use_tf, noise_levels)\n",
    "noise_levels = [0.001, 0.005, 0.01, 0.05, 0.1, 0.25]        \n",
    "pre_trained_multiple(r\"C:\\Users\\Andrew Patterson\\Documents\\PhD\\cirq_state_discrimination\\checkpoints\\myriad_data\\tf_noise_off_g\", True, noise_levels)"
   ]
  }
 ],
 "metadata": {
  "kernelspec": {
   "display_name": "cirq_dev",
   "language": "python",
   "name": "cirq_dev"
  },
  "language_info": {
   "codemirror_mode": {
    "name": "ipython",
    "version": 3
   },
   "file_extension": ".py",
   "mimetype": "text/x-python",
   "name": "python",
   "nbconvert_exporter": "python",
   "pygments_lexer": "ipython3",
   "version": "3.6.7"
  },
  "latex_envs": {
   "LaTeX_envs_menu_present": true,
   "autoclose": false,
   "autocomplete": false,
   "bibliofile": "biblio.bib",
   "cite_by": "apalike",
   "current_citInitial": 1,
   "eqLabelWithNumbers": true,
   "eqNumInitial": 1,
   "hotkeys": {
    "equation": "Ctrl-E",
    "itemize": "Ctrl-I"
   },
   "labels_anchors": false,
   "latex_user_defs": false,
   "report_style_numbering": false,
   "user_envs_cfg": false
  }
 },
 "nbformat": 4,
 "nbformat_minor": 2
}
